{
 "cells": [
  {
   "cell_type": "code",
   "execution_count": 1,
   "id": "a297f2d1",
   "metadata": {},
   "outputs": [],
   "source": [
    "import gzip\n",
    "import os\n",
    "import urllib\n",
    "import numpy\n",
    "SOURCE_URL = 'http://yann.lecun.com/exdb/mnist/'\n",
    "\n",
    "\n",
    "def maybe_download(filename, work_directory):\n",
    "    \"\"\"Download the data from Yann's website, unless it's already here.\"\"\"\n",
    "    if not os.path.exists(work_directory):\n",
    "        os.mkdir(work_directory)\n",
    "    filepath = os.path.join(work_directory, filename)\n",
    "    if not os.path.exists(filepath):\n",
    "        filepath, _ = urllib.urlretrieve(SOURCE_URL + filename, filepath)\n",
    "        statinfo = os.stat(filepath)\n",
    "        print ('Succesfully downloaded', filename, statinfo.st_size, 'bytes.')\n",
    "    return filepath\n",
    "\n",
    "\n",
    "def _read32(bytestream):\n",
    "    dt = numpy.dtype(numpy.uint32).newbyteorder('>')\n",
    "    return numpy.frombuffer(bytestream.read(4), dtype=dt)\n",
    "\n",
    "\n",
    "def extract_images(filename):\n",
    "    \"\"\"Extract the images into a 4D uint8 numpy array [index, y, x, depth].\"\"\"\n",
    "    print ('Extracting', filename)\n",
    "    with gzip.open(filename) as bytestream:\n",
    "        magic = _read32(bytestream)\n",
    "        if magic != 2051:\n",
    "            raise ValueError(\n",
    "                'Invalid magic number %d in MNIST image file: %s' %\n",
    "                (magic, filename))\n",
    "        num_images = _read32(bytestream)\n",
    "        rows = _read32(bytestream)\n",
    "        cols = _read32(bytestream)\n",
    "        buf = bytestream.read(rows * cols * num_images)\n",
    "        data = numpy.frombuffer(buf, dtype=numpy.uint8)\n",
    "        data = data.reshape(num_images, rows, cols, 1)\n",
    "        return data\n",
    "\n",
    "\n",
    "def dense_to_one_hot(labels_dense, num_classes=10):\n",
    "    \"\"\"Convert class labels from scalars to one-hot vectors.\"\"\"\n",
    "    num_labels = labels_dense.shape[0]\n",
    "    index_offset = numpy.arange(num_labels) * num_classes\n",
    "    labels_one_hot = numpy.zeros((num_labels, num_classes))\n",
    "    labels_one_hot.flat[index_offset + labels_dense.ravel()] = 1\n",
    "    return labels_one_hot\n",
    "\n",
    "\n",
    "def extract_labels(filename, one_hot=False):\n",
    "    \"\"\"Extract the labels into a 1D uint8 numpy array [index].\"\"\"\n",
    "    print ('Extracting', filename)\n",
    "    with gzip.open(filename) as bytestream:\n",
    "        magic = _read32(bytestream)\n",
    "        if magic != 2049:\n",
    "            raise ValueError(\n",
    "                'Invalid magic number %d in MNIST label file: %s' %\n",
    "                (magic, filename))\n",
    "        num_items = _read32(bytestream)\n",
    "        buf = bytestream.read(num_items)\n",
    "        labels = numpy.frombuffer(buf, dtype=numpy.uint8)\n",
    "        if one_hot:\n",
    "            return dense_to_one_hot(labels)\n",
    "        return labels\n",
    "\n",
    "\n",
    "class DataSet(object):\n",
    "    def __init__(self, images, labels, fake_data=False):\n",
    "        if fake_data:\n",
    "            self._num_examples = 10000\n",
    "        else:\n",
    "            assert images.shape[0] == labels.shape[0], (\n",
    "                \"images.shape: %s labels.shape: %s\" % (images.shape,\n",
    "                                                       labels.shape))\n",
    "            self._num_examples = images.shape[0]\n",
    "            # Convert shape from [num examples, rows, columns, depth]\n",
    "            # to [num examples, rows*columns] (assuming depth == 1)\n",
    "            assert images.shape[3] == 1\n",
    "            images = images.reshape(images.shape[0],\n",
    "                                    images.shape[1] * images.shape[2])\n",
    "            # Convert from [0, 255] -> [0.0, 1.0].\n",
    "            images = images.astype(numpy.float32)\n",
    "            images = numpy.multiply(images, 1.0 / 255.0)\n",
    "        self._images = images\n",
    "        self._labels = labels\n",
    "        self._epochs_completed = 0\n",
    "        self._index_in_epoch = 0\n",
    "\n",
    "    @property\n",
    "    def images(self):\n",
    "        return self._images\n",
    "\n",
    "    @property\n",
    "    def labels(self):\n",
    "        return self._labels\n",
    "\n",
    "    @property\n",
    "    def num_examples(self):\n",
    "        return self._num_examples\n",
    "\n",
    "    @property\n",
    "    def epochs_completed(self):\n",
    "        return self._epochs_completed\n",
    "\n",
    "    def next_batch(self, batch_size, fake_data=False):\n",
    "        \"\"\"Return the next `batch_size` examples from this data set.\"\"\"\n",
    "        if fake_data:\n",
    "            fake_image = [1.0 for _ in xrange(784)]\n",
    "            fake_label = 0\n",
    "            return [fake_image for _ in xrange(batch_size)], [\n",
    "                fake_label for _ in xrange(batch_size)]\n",
    "        start = self._index_in_epoch\n",
    "        self._index_in_epoch += batch_size\n",
    "        if self._index_in_epoch > self._num_examples:\n",
    "            # Finished epoch\n",
    "            self._epochs_completed += 1\n",
    "            # Shuffle the data\n",
    "            perm = numpy.arange(self._num_examples)\n",
    "            numpy.random.shuffle(perm)\n",
    "            self._images = self._images[perm]\n",
    "            self._labels = self._labels[perm]\n",
    "            # Start next epoch\n",
    "            start = 0\n",
    "            self._index_in_epoch = batch_size\n",
    "            assert batch_size <= self._num_examples\n",
    "        end = self._index_in_epoch\n",
    "        return self._images[start:end], self._labels[start:end]\n",
    "\n",
    "\n",
    "def read_data_sets(train_dir, fake_data=False, one_hot=False):\n",
    "    class DataSets(object):\n",
    "        pass\n",
    "    data_sets = DataSets()\n",
    "    if fake_data:\n",
    "        data_sets.train = DataSet([], [], fake_data=True)\n",
    "        data_sets.validation = DataSet([], [], fake_data=True)\n",
    "        data_sets.test = DataSet([], [], fake_data=True)\n",
    "        return data_sets\n",
    "    TRAIN_IMAGES = 'train-images-idx3-ubyte.gz'\n",
    "    TRAIN_LABELS = 'train-labels-idx1-ubyte.gz'\n",
    "    TEST_IMAGES = 't10k-images-idx3-ubyte.gz'\n",
    "    TEST_LABELS = 't10k-labels-idx1-ubyte.gz'\n",
    "    VALIDATION_SIZE = 5000\n",
    "    local_file = maybe_download(TRAIN_IMAGES, train_dir)\n",
    "    train_images = extract_images(local_file)\n",
    "    local_file = maybe_download(TRAIN_LABELS, train_dir)\n",
    "    train_labels = extract_labels(local_file, one_hot=one_hot)\n",
    "    local_file = maybe_download(TEST_IMAGES, train_dir)\n",
    "    test_images = extract_images(local_file)\n",
    "    local_file = maybe_download(TEST_LABELS, train_dir)\n",
    "    test_labels = extract_labels(local_file, one_hot=one_hot)\n",
    "    validation_images = train_images[:VALIDATION_SIZE]\n",
    "    validation_labels = train_labels[:VALIDATION_SIZE]\n",
    "    train_images = train_images[VALIDATION_SIZE:]\n",
    "    train_labels = train_labels[VALIDATION_SIZE:]\n",
    "    data_sets.train = DataSet(train_images, train_labels)\n",
    "    data_sets.validation = DataSet(validation_images, validation_labels)\n",
    "    data_sets.test = DataSet(test_images, test_labels)\n",
    "    return data_sets"
   ]
  },
  {
   "cell_type": "code",
   "execution_count": 2,
   "id": "2c678713",
   "metadata": {},
   "outputs": [],
   "source": [
    "from tensorflow.examples.tutorials.mnist import input_data\n"
   ]
  },
  {
   "cell_type": "code",
   "execution_count": 3,
   "id": "245122b3",
   "metadata": {},
   "outputs": [],
   "source": [
    "import imageio\n",
    "# from scipy.misc import imsave\n",
    "ims = imageio.imsave\n"
   ]
  },
  {
   "cell_type": "code",
   "execution_count": 4,
   "id": "66c49156",
   "metadata": {},
   "outputs": [],
   "source": [
    "from torchvision.ops import *"
   ]
  },
  {
   "cell_type": "code",
   "execution_count": 5,
   "id": "4f7b531c",
   "metadata": {},
   "outputs": [],
   "source": [
    "import numpy as np\n",
    "import tensorflow as tf\n",
    "\n",
    "class batch_norm(object):\n",
    "    \"\"\"Code modification of http://stackoverflow.com/a/33950177\"\"\"\n",
    "    def __init__(self, epsilon=1e-5, momentum = 0.9, name=\"batch_norm\"):\n",
    "        with tf.variable_scope(name):\n",
    "            self.epsilon = epsilon\n",
    "            self.momentum = momentum\n",
    "\n",
    "            self.ema = tf.train.ExponentialMovingAverage(decay=self.momentum)\n",
    "            self.name = name\n",
    "\n",
    "    def __call__(self, x, train=True):\n",
    "        shape = x.get_shape().as_list()\n",
    "\n",
    "        if train:\n",
    "            with tf.variable_scope(self.name) as scope:\n",
    "                self.beta = tf.get_variable(\"beta\", [shape[-1]],\n",
    "                                    initializer=tf.constant_initializer(0.))\n",
    "                self.gamma = tf.get_variable(\"gamma\", [shape[-1]],\n",
    "                                    initializer=tf.random_normal_initializer(1., 0.02))\n",
    "\n",
    "                batch_mean, batch_var = tf.nn.moments(x, [0, 1, 2], name='moments')\n",
    "                ema_apply_op = self.ema.apply([batch_mean, batch_var])\n",
    "                self.ema_mean, self.ema_var = self.ema.average(batch_mean), self.ema.average(batch_var)\n",
    "\n",
    "                with tf.control_dependencies([ema_apply_op]):\n",
    "                    mean, var = tf.identity(batch_mean), tf.identity(batch_var)\n",
    "        else:\n",
    "            mean, var = self.ema_mean, self.ema_var\n",
    "\n",
    "        normed = tf.nn.batch_norm_with_global_normalization(\n",
    "                x, mean, var, self.beta, self.gamma, self.epsilon, scale_after_normalization=True)\n",
    "\n",
    "        return normed\n",
    "\n",
    "# standard convolution layer\n",
    "def conv2d(x, inputFeatures, outputFeatures, name):\n",
    "    with tf.variable_scope(name):\n",
    "        w = tf.get_variable(\"w\",[5,5,inputFeatures, outputFeatures], initializer=tf.truncated_normal_initializer(stddev=0.02))\n",
    "        b = tf.get_variable(\"b\",[outputFeatures], initializer=tf.constant_initializer(0.0))\n",
    "        conv = tf.nn.conv2d(x, w, strides=[1,2,2,1], padding=\"SAME\") + b\n",
    "        return conv\n",
    "\n",
    "def conv_transpose(x, outputShape, name):\n",
    "    with tf.variable_scope(name):\n",
    "        # h, w, out, in\n",
    "        w = tf.get_variable(\"w\",[5,5, outputShape[-1], x.get_shape()[-1]], initializer=tf.truncated_normal_initializer(stddev=0.02))\n",
    "        b = tf.get_variable(\"b\",[outputShape[-1]], initializer=tf.constant_initializer(0.0))\n",
    "        convt = tf.nn.conv2d_transpose(x, w, output_shape=outputShape, strides=[1,2,2,1])\n",
    "        return convt\n",
    "\n",
    "def deconv2d(input_, output_shape,\n",
    "             k_h=5, k_w=5, d_h=2, d_w=2, stddev=0.02,\n",
    "             name=\"deconv2d\"):\n",
    "    with tf.variable_scope(name):\n",
    "        # filter : [height, width, output_channels, in_channels]\n",
    "        w = tf.get_variable('w', [k_h, k_h, output_shape[-1], input_.get_shape()[-1]],\n",
    "                            initializer=tf.random_normal_initializer(stddev=stddev))\n",
    "\n",
    "        deconv = tf.nn.conv2d_transpose(input_, w, output_shape=output_shape, strides=[1, d_h, d_w, 1])\n",
    "\n",
    "        biases = tf.get_variable('biases', [output_shape[-1]], initializer=tf.constant_initializer(0.0))\n",
    "        deconv = tf.reshape(tf.nn.bias_add(deconv, biases), deconv.get_shape())\n",
    "\n",
    "        return deconv\n",
    "\n",
    "# leaky reLu unit\n",
    "def lrelu(x, leak=0.2, name=\"lrelu\"):\n",
    "    with tf.variable_scope(name):\n",
    "        f1 = 0.5 * (1 + leak)\n",
    "        f2 = 0.5 * (1 - leak)\n",
    "        return f1 * x + f2 * abs(x)\n",
    "\n",
    "# fully-conected layer\n",
    "def dense(x, inputFeatures, outputFeatures, scope=None, with_w=False):\n",
    "    with tf.variable_scope(scope or \"Linear\"):\n",
    "        matrix = tf.get_variable(\"Matrix\", [inputFeatures, outputFeatures], tf.float32, tf.random_normal_initializer(stddev=0.02))\n",
    "        bias = tf.get_variable(\"bias\", [outputFeatures], initializer=tf.constant_initializer(0.0))\n",
    "        if with_w:\n",
    "            return tf.matmul(x, matrix) + bias, matrix, bias\n",
    "        else:\n",
    "            return tf.matmul(x, matrix) + bias"
   ]
  },
  {
   "cell_type": "code",
   "execution_count": 6,
   "id": "7bebe28c",
   "metadata": {},
   "outputs": [],
   "source": [
    "import numpy as np\n",
    "import tensorflow as tf\n",
    "\n",
    "def merge(images, size):\n",
    "    h, w = images.shape[1], images.shape[2]\n",
    "    img = np.zeros((h * size[0], w * size[1]))\n",
    "\n",
    "    for idx, image in enumerate(images):\n",
    "        i = idx % size[1]\n",
    "        j = idx // size[1]\n",
    "        img[j*h:j*h+h, i*w:i*w+w] = image\n",
    "\n",
    "    return img"
   ]
  },
  {
   "cell_type": "code",
   "execution_count": 7,
   "id": "dc5a7b5c",
   "metadata": {
    "scrolled": true
   },
   "outputs": [
    {
     "name": "stdout",
     "output_type": "stream",
     "text": [
      "WARNING:tensorflow:From C:\\Users\\14167\\AppData\\Local\\Temp\\ipykernel_18916\\3064306669.py:12: read_data_sets (from tensorflow.examples.tutorials.mnist.input_data) is deprecated and will be removed in a future version.\n",
      "Instructions for updating:\n",
      "Please use alternatives such as: tensorflow_datasets.load('mnist')\n",
      "WARNING:tensorflow:From C:\\Users\\14167\\ANACONDA\\Lib\\site-packages\\tensorflow\\examples\\tutorials\\mnist\\input_data.py:296: _maybe_download (from tensorflow.examples.tutorials.mnist.input_data) is deprecated and will be removed in a future version.\n",
      "Instructions for updating:\n",
      "Please write your own downloading logic.\n",
      "WARNING:tensorflow:From C:\\Users\\14167\\ANACONDA\\Lib\\site-packages\\tensorflow\\examples\\tutorials\\mnist\\input_data.py:299: _extract_images (from tensorflow.examples.tutorials.mnist.input_data) is deprecated and will be removed in a future version.\n",
      "Instructions for updating:\n",
      "Please use tf.data to implement this functionality.\n",
      "Extracting MNIST_data/train-images-idx3-ubyte.gz\n",
      "WARNING:tensorflow:From C:\\Users\\14167\\ANACONDA\\Lib\\site-packages\\tensorflow\\examples\\tutorials\\mnist\\input_data.py:304: _extract_labels (from tensorflow.examples.tutorials.mnist.input_data) is deprecated and will be removed in a future version.\n",
      "Instructions for updating:\n",
      "Please use tf.data to implement this functionality.\n",
      "Extracting MNIST_data/train-labels-idx1-ubyte.gz\n",
      "WARNING:tensorflow:From C:\\Users\\14167\\ANACONDA\\Lib\\site-packages\\tensorflow\\examples\\tutorials\\mnist\\input_data.py:112: _dense_to_one_hot (from tensorflow.examples.tutorials.mnist.input_data) is deprecated and will be removed in a future version.\n",
      "Instructions for updating:\n",
      "Please use tf.one_hot on tensors.\n",
      "Extracting MNIST_data/t10k-images-idx3-ubyte.gz\n",
      "Extracting MNIST_data/t10k-labels-idx1-ubyte.gz\n",
      "WARNING:tensorflow:From C:\\Users\\14167\\ANACONDA\\Lib\\site-packages\\tensorflow\\examples\\tutorials\\mnist\\input_data.py:328: _DataSet.__init__ (from tensorflow.examples.tutorials.mnist.input_data) is deprecated and will be removed in a future version.\n",
      "Instructions for updating:\n",
      "Please use alternatives such as official/mnist/_DataSet.py from tensorflow/models.\n"
     ]
    },
    {
     "name": "stderr",
     "output_type": "stream",
     "text": [
      "Lossy conversion from float64 to uint8. Range [0, 1]. Convert image to uint8 prior to saving to suppress this warning.\n"
     ]
    },
    {
     "name": "stdout",
     "output_type": "stream",
     "text": [
      "WARNING:tensorflow:From C:\\Users\\14167\\ANACONDA\\Lib\\site-packages\\tensorflow\\python\\util\\tf_should_use.py:288: initialize_all_variables (from tensorflow.python.ops.variables) is deprecated and will be removed after 2017-03-02.\n",
      "Instructions for updating:\n",
      "Use `tf.global_variables_initializer` instead.\n",
      "epoch 0: genloss 543.428833 latloss 107.026115\n"
     ]
    },
    {
     "name": "stderr",
     "output_type": "stream",
     "text": [
      "Lossy conversion from float64 to uint8. Range [0, 1]. Convert image to uint8 prior to saving to suppress this warning.\n"
     ]
    },
    {
     "name": "stdout",
     "output_type": "stream",
     "text": [
      "epoch 1: genloss 127.311707 latloss 16.508202\n"
     ]
    },
    {
     "name": "stderr",
     "output_type": "stream",
     "text": [
      "Lossy conversion from float64 to uint8. Range [0, 1]. Convert image to uint8 prior to saving to suppress this warning.\n"
     ]
    },
    {
     "name": "stdout",
     "output_type": "stream",
     "text": [
      "epoch 2: genloss 93.793991 latloss 21.982038\n",
      "WARNING:tensorflow:From C:\\Users\\14167\\ANACONDA\\Lib\\site-packages\\tensorflow\\python\\training\\saver.py:1067: remove_checkpoint (from tensorflow.python.checkpoint.checkpoint_management) is deprecated and will be removed in a future version.\n",
      "Instructions for updating:\n",
      "Use standard file APIs to delete files with this prefix.\n"
     ]
    },
    {
     "name": "stderr",
     "output_type": "stream",
     "text": [
      "Lossy conversion from float64 to uint8. Range [0, 1]. Convert image to uint8 prior to saving to suppress this warning.\n"
     ]
    },
    {
     "name": "stdout",
     "output_type": "stream",
     "text": [
      "epoch 3: genloss 88.215797 latloss 23.979961\n"
     ]
    },
    {
     "name": "stderr",
     "output_type": "stream",
     "text": [
      "Lossy conversion from float64 to uint8. Range [0, 1]. Convert image to uint8 prior to saving to suppress this warning.\n"
     ]
    },
    {
     "name": "stdout",
     "output_type": "stream",
     "text": [
      "epoch 4: genloss 82.342865 latloss 25.336931\n"
     ]
    },
    {
     "name": "stderr",
     "output_type": "stream",
     "text": [
      "Lossy conversion from float64 to uint8. Range [0, 1]. Convert image to uint8 prior to saving to suppress this warning.\n"
     ]
    },
    {
     "name": "stdout",
     "output_type": "stream",
     "text": [
      "epoch 5: genloss 80.827858 latloss 24.972240\n"
     ]
    },
    {
     "name": "stderr",
     "output_type": "stream",
     "text": [
      "Lossy conversion from float64 to uint8. Range [0, 1]. Convert image to uint8 prior to saving to suppress this warning.\n"
     ]
    },
    {
     "name": "stdout",
     "output_type": "stream",
     "text": [
      "epoch 6: genloss 81.529396 latloss 25.489334\n"
     ]
    },
    {
     "name": "stderr",
     "output_type": "stream",
     "text": [
      "Lossy conversion from float64 to uint8. Range [0, 1]. Convert image to uint8 prior to saving to suppress this warning.\n"
     ]
    },
    {
     "name": "stdout",
     "output_type": "stream",
     "text": [
      "epoch 7: genloss 79.636307 latloss 25.529085\n"
     ]
    },
    {
     "name": "stderr",
     "output_type": "stream",
     "text": [
      "Lossy conversion from float64 to uint8. Range [0, 1]. Convert image to uint8 prior to saving to suppress this warning.\n"
     ]
    },
    {
     "name": "stdout",
     "output_type": "stream",
     "text": [
      "epoch 8: genloss 73.619255 latloss 23.680496\n"
     ]
    },
    {
     "name": "stderr",
     "output_type": "stream",
     "text": [
      "Lossy conversion from float64 to uint8. Range [0, 1]. Convert image to uint8 prior to saving to suppress this warning.\n"
     ]
    },
    {
     "name": "stdout",
     "output_type": "stream",
     "text": [
      "epoch 9: genloss 77.917709 latloss 25.497557\n"
     ]
    },
    {
     "name": "stderr",
     "output_type": "stream",
     "text": [
      "Lossy conversion from float64 to uint8. Range [0, 1]. Convert image to uint8 prior to saving to suppress this warning.\n"
     ]
    },
    {
     "data": {
      "image/png": "[encoded data removed]",
      "text/plain": [
       "<Figure size 640x480 with 1 Axes>"
      ]
     },
     "metadata": {},
     "output_type": "display_data"
    }
   ],
   "source": [
    "import tensorflow.compat.v1 as tf\n",
    "import numpy as np\n",
    "import matplotlib.pyplot as plt\n",
    "import os\n",
    "#from scipy.misc import imsave as ims\n",
    "from utils import *\n",
    "\n",
    "tf.disable_eager_execution()\n",
    "\n",
    "class LatentAttention():\n",
    "    def __init__(self):\n",
    "        self.mnist = input_data.read_data_sets(\"MNIST_data/\", one_hot=True)\n",
    "        self.n_samples = self.mnist.train.num_examples\n",
    "\n",
    "        self.n_hidden = 500\n",
    "        self.n_z = 20\n",
    "        self.batchsize = 100\n",
    "\n",
    "        self.images = tf.placeholder(tf.float32, [None, 784])\n",
    "        image_matrix = tf.reshape(self.images,[-1, 28, 28, 1])\n",
    "        z_mean, z_stddev = self.recognition(image_matrix)\n",
    "        samples = tf.random_normal([self.batchsize,self.n_z],0,1,dtype=tf.float32)\n",
    "        guessed_z = z_mean + (z_stddev * samples)\n",
    "\n",
    "        self.generated_images = self.generation(guessed_z)\n",
    "        generated_flat = tf.reshape(self.generated_images, [self.batchsize, 28*28])\n",
    "\n",
    "        self.generation_loss = -tf.reduce_sum(self.images * tf.log(1e-8 + generated_flat) + (1-self.images) * tf.log(1e-8 + 1 - generated_flat),1)\n",
    "\n",
    "        self.latent_loss = 0.5 * tf.reduce_sum(tf.square(z_mean) + tf.square(z_stddev) - tf.log(tf.square(z_stddev)) - 1,1)\n",
    "        self.cost = tf.reduce_mean(self.generation_loss + self.latent_loss)\n",
    "        self.optimizer = tf.train.AdamOptimizer(0.001).minimize(self.cost)\n",
    "\n",
    "\n",
    "    # encoder\n",
    "    def recognition(self, input_images):\n",
    "        with tf.variable_scope(\"recognition\"):\n",
    "            h1 = lrelu(conv2d(input_images, 1, 16, \"d_h1\")) # 28x28x1 -> 14x14x16\n",
    "            h2 = lrelu(conv2d(h1, 16, 32, \"d_h2\")) # 14x14x16 -> 7x7x32\n",
    "            h2_flat = tf.reshape(h2,[self.batchsize, 7*7*32])\n",
    "\n",
    "            w_mean = dense(h2_flat, 7*7*32, self.n_z, \"w_mean\")\n",
    "            w_stddev = dense(h2_flat, 7*7*32, self.n_z, \"w_stddev\")\n",
    "\n",
    "        return w_mean, w_stddev\n",
    "\n",
    "    # decoder\n",
    "    def generation(self, z):\n",
    "        with tf.variable_scope(\"generation\"):\n",
    "            z_develop = dense(z, self.n_z, 7*7*32, scope='z_matrix')\n",
    "            z_matrix = tf.nn.relu(tf.reshape(z_develop, [self.batchsize, 7, 7, 32]))\n",
    "            h1 = tf.nn.relu(conv_transpose(z_matrix, [self.batchsize, 14, 14, 16], \"g_h1\"))\n",
    "            h2 = conv_transpose(h1, [self.batchsize, 28, 28, 1], \"g_h2\")\n",
    "            h2 = tf.nn.sigmoid(h2)\n",
    "\n",
    "        return h2\n",
    "\n",
    "    def train(self):\n",
    "        visualization = self.mnist.train.next_batch(self.batchsize)[0]\n",
    "        reshaped_vis = visualization.reshape(self.batchsize,28,28)\n",
    "        ims(\"results/base.jpg\",merge(reshaped_vis[:64],[8,8]))\n",
    "        \n",
    "        gen_loss_list = []\n",
    "        lat_loss_list = []\n",
    "        \n",
    "        # train\n",
    "        saver = tf.train.Saver(max_to_keep=2)\n",
    "        with tf.Session() as sess:\n",
    "            sess.run(tf.initialize_all_variables())\n",
    "            for epoch in range(10):\n",
    "                for idx in range(int(self.n_samples / self.batchsize)):\n",
    "                    batch = self.mnist.train.next_batch(self.batchsize)[0]\n",
    "                    _, gen_loss, lat_loss = sess.run((self.optimizer, self.generation_loss, self.latent_loss), feed_dict={self.images: batch})\n",
    "                    \n",
    "                    gen_loss_list.append(np.mean(gen_loss))\n",
    "                    lat_loss_list.append(np.mean(lat_loss))\n",
    "                \n",
    "                    # dumb hack to print cost every epoch\n",
    "                    if idx % (self.n_samples - 3) == 0:\n",
    "                        print(\"epoch %d: genloss %f latloss %f\" % (epoch, np.mean(gen_loss), np.mean(lat_loss)))\n",
    "                        saver.save(sess, os.getcwd()+\"/training/train\",global_step=epoch)\n",
    "                        generated_test = sess.run(self.generated_images, feed_dict={self.images: visualization})\n",
    "                        generated_test = generated_test.reshape(self.batchsize,28,28)\n",
    "                        ims(\"results/\"+str(epoch)+\".jpg\",merge(generated_test[:64],[8,8]))\n",
    "                        \n",
    "                        plt.plot(gen_loss_list, label='Generation Loss')\n",
    "        plt.plot(lat_loss_list, label='Latent Loss')\n",
    "        plt.xlabel('Epoch')\n",
    "        plt.ylabel('Loss')\n",
    "        plt.legend()\n",
    "        plt.show()\n",
    "\n",
    "\n",
    "model = LatentAttention()\n",
    "model.train()"
   ]
  },
  {
   "cell_type": "code",
   "execution_count": 8,
   "id": "a6b7eeea",
   "metadata": {},
   "outputs": [
    {
     "name": "stdout",
     "output_type": "stream",
     "text": [
      "PSNR: 14.49 dB\n"
     ]
    }
   ],
   "source": [
    "from PIL import Image\n",
    "import numpy as np\n",
    "import math\n",
    "\n",
    "def calculate_psnr(original_image_path, processed_image_path):\n",
    "    # Load images\n",
    "    original_image = Image.open(original_image_path)\n",
    "    processed_image = Image.open(processed_image_path)\n",
    "\n",
    "    # Convert images to numpy arrays\n",
    "    original_array = np.array(original_image).astype(np.float32)\n",
    "    processed_array = np.array(processed_image).astype(np.float32)\n",
    "\n",
    "    # Ensure the images have the same shape\n",
    "    if original_array.shape != processed_array.shape:\n",
    "        raise ValueError(\"Both images must have the same dimensions.\")\n",
    "\n",
    "    # Calculate Mean Squared Error (MSE)\n",
    "    mse = np.mean((original_array - processed_array) ** 2)\n",
    "\n",
    "    # Calculate Peak Signal-to-Noise Ratio (PSNR)\n",
    "    max_pixel_value = 255.0\n",
    "    psnr = 10 * math.log10((max_pixel_value ** 2) / mse)\n",
    "\n",
    "    return psnr\n",
    "\n",
    "# Example usage\n",
    "original_image_path = r\"C:\\Users\\14167\\Desktop\\results\\base.jpg\"\n",
    "processed_image_path = r\"C:\\Users\\14167\\Desktop\\results\\1.jpg\"\n",
    "\n",
    "psnr_value = calculate_psnr(original_image_path, processed_image_path)\n",
    "print(f\"PSNR: {psnr_value:.2f} dB\")\n",
    "\n"
   ]
  },
  {
   "cell_type": "code",
   "execution_count": null,
   "id": "2dfaba1e",
   "metadata": {},
   "outputs": [],
   "source": []
  }
 ],
 "metadata": {
  "kernelspec": {
   "display_name": "Python 3 (ipykernel)",
   "language": "python",
   "name": "python3"
  },
  "language_info": {
   "codemirror_mode": {
    "name": "ipython",
    "version": 3
   },
   "file_extension": ".py",
   "mimetype": "text/x-python",
   "name": "python",
   "nbconvert_exporter": "python",
   "pygments_lexer": "ipython3",
   "version": "3.11.4"
  }
 },
 "nbformat": 4,
 "nbformat_minor": 5
}
